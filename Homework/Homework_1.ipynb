{
 "cells": [
  {
   "cell_type": "markdown",
   "metadata": {},
   "source": [
    "# Homework 1"
   ]
  },
  {
   "cell_type": "markdown",
   "metadata": {},
   "source": [
    "## Table of Contents\n",
    "* [Machine Learning Main Ideas](#machine-learning)\n",
    "    * [Question 1](#ml-question-1)\n",
    "    * [Question 2](#ml-question-2)\n",
    "    * [Question 3](#ml-question-3)\n",
    "    * [Question 4](#ml-question-4)\n",
    "    * [Question 5](#ml-question-5)\n",
    "* [Exploratory Data Analysis](#eda)\n",
    "    * [Question 1](#eda-question-1)\n",
    "    * [Question 2](#eda-question-2)\n",
    "    * [Question 3](#eda-question-3)\n",
    "    * [Question 4](#eda-question-4)\n",
    "    * [Question 5](#eda-question-5)"
   ]
  },
  {
   "cell_type": "markdown",
   "metadata": {},
   "source": [
    "***"
   ]
  },
  {
   "cell_type": "markdown",
   "metadata": {},
   "source": [
    "## Machine Learning Main Ideas <a class=\"anchor\" id=\"machine-learning\"></a>"
   ]
  },
  {
   "cell_type": "markdown",
   "metadata": {},
   "source": [
    "### 1). \n",
    "Define supervised and unsupervised learning. What are the difference(s) between them? <a class=\"anchor\" id=\"ml-question-1\"></a>"
   ]
  },
  {
   "cell_type": "markdown",
   "metadata": {},
   "source": [
    "Supervised learning is a method of machine learning in which for each observation from our dataset, there is an associated response variable we are attempting to predict. In contrast, unsupervised learning is a machine learning method that once again uses observations, but has no associated response variable we are attempting to predict. Unsupervised learning is typically used to understand the relationships between our observations."
   ]
  },
  {
   "cell_type": "markdown",
   "metadata": {},
   "source": [
    "### 2). \n",
    "Explain the difference between a regression model and a classification model, specifically in the context of machine learning.<a class=\"anchor\" id=\"ml-question-2\"></a>"
   ]
  },
  {
   "cell_type": "markdown",
   "metadata": {},
   "source": [
    "Both regression and classification models are types of supervised machine learning methods in which we use observations to predict some response variable. In regression our response variable is a quantitative variable, or a numerical variable. Whereas in classification, our response variable is a qualitative variable, or a categorical variable. Both of these methods are attempting to do the same thing but with different types of responses."
   ]
  },
  {
   "cell_type": "markdown",
   "metadata": {},
   "source": [
    "### 3). \n",
    "Name two commonly used metrics for regression ML problems. Name two commonly used metrics for classification ML problems.<a class=\"anchor\" id=\"ml-question-3\"></a>"
   ]
  },
  {
   "cell_type": "markdown",
   "metadata": {},
   "source": [
    "**Regression**:\n",
    "\n",
    "MSE = $\\frac{1}{n}\\sum^n_{i=1}(y_i-\\hat{f}(x_i))^2$\n",
    "\n",
    "This measures how close our predicted responses are to the true value for that specific observation of our training data.\n",
    "\n",
    "**Classification**:"
   ]
  },
  {
   "cell_type": "markdown",
   "metadata": {},
   "source": [
    "### 4). \n",
    "As discussed, statistical models can be used for different purposes. These purposes can generally be classified into the following three categories. Provide a brief description of each.\n",
    "\n",
    "* Descriptive models:\n",
    "\n",
    "* Inferential models:\n",
    "\n",
    "* Predictive models:<a class=\"anchor\" id=\"ml-question-4\"></a>"
   ]
  },
  {
   "cell_type": "markdown",
   "metadata": {},
   "source": []
  },
  {
   "cell_type": "markdown",
   "metadata": {},
   "source": [
    "### 5). \n",
    "A political candidate’s campaign has collected some detailed voter history data from their constituents. The campaign is interested in two questions:\n",
    "\n",
    "* Given a voter’s profile/data, how likely is it that they will vote in favor of the candidate?\n",
    "\n",
    "* How would a voter’s likelihood of support for the candidate change if they had personal contact with the candidate?\n",
    "\n",
    "Classify each question as either predictive or inferential. Explain your reasoning for each.<a class=\"anchor\" id=\"ml-question-5\"></a>"
   ]
  },
  {
   "cell_type": "markdown",
   "metadata": {},
   "source": []
  },
  {
   "cell_type": "markdown",
   "metadata": {},
   "source": [
    "***"
   ]
  },
  {
   "cell_type": "markdown",
   "metadata": {},
   "source": [
    "## Exploratory Data Analysis <a class=\"anchor\" id=\"eda\"></a>"
   ]
  },
  {
   "cell_type": "markdown",
   "metadata": {},
   "source": [
    "### 1). \n",
    "We are interested in highway miles per gallon, or the hwy variable. Create a histogram of this variable. Describe what you see/learn.<a class=\"anchor\" id=\"eda-question-1\"></a>"
   ]
  },
  {
   "cell_type": "markdown",
   "metadata": {},
   "source": []
  },
  {
   "cell_type": "markdown",
   "metadata": {},
   "source": [
    "### 2). \n",
    "Create a scatterplot. Put hwy on the x-axis and cty on the y-axis. Describe what you notice. Is there a relationship between hwy and cty? What does this mean?<a class=\"anchor\" id=\"eda-question-2\"></a>"
   ]
  },
  {
   "cell_type": "markdown",
   "metadata": {},
   "source": []
  },
  {
   "cell_type": "markdown",
   "metadata": {},
   "source": [
    "### 3). \n",
    "Make a bar plot of manufacturer. Flip it so that the manufacturers are on the y-axis. Order the bars by height. Which manufacturer produced the most cars? Which produced the least?<a class=\"anchor\" id=\"eda-question-3\"></a>"
   ]
  },
  {
   "cell_type": "markdown",
   "metadata": {},
   "source": []
  },
  {
   "cell_type": "markdown",
   "metadata": {},
   "source": [
    "### 4). \n",
    "Make a box plot of hwy, grouped by cyl. Use geom_jitter() and the alpha argument to add points to the plot.\n",
    "\n",
    "Describe what you see. Is there a relationship between hwy and cyl? What do you notice?<a class=\"anchor\" id=\"eda-question-4\"></a>"
   ]
  },
  {
   "cell_type": "markdown",
   "metadata": {},
   "source": []
  },
  {
   "cell_type": "markdown",
   "metadata": {},
   "source": [
    "### 5). \n",
    "Use the corrplot package to make a lower triangle correlation matrix of the mpg dataset. (Hint: You can find information on the package here.)\n",
    "\n",
    "Which variables are positively or negatively correlated with which others? Do these relationships make sense to you? Are there any that surprise you?<a class=\"anchor\" id=\"eda-question-5\"></a>"
   ]
  },
  {
   "cell_type": "markdown",
   "metadata": {},
   "source": []
  }
 ],
 "metadata": {
  "language_info": {
   "name": "python"
  }
 },
 "nbformat": 4,
 "nbformat_minor": 2
}
