{
 "cells": [
  {
   "cell_type": "markdown",
   "metadata": {},
   "source": [
    "# Homework 1"
   ]
  },
  {
   "cell_type": "markdown",
   "metadata": {},
   "source": [
    "## Table of Contents\n",
    "* [Linear Regression and KNN](#linregression-knn)\n",
    "    * [Question 1](#question-1)\n",
    "    * [Question 2](#question-2)\n",
    "    * [Question 3](#question-3)\n",
    "    * [Question 4](#question-4)\n",
    "    * [Question 5](#question-5)\n",
    "    * [Question 6](#question-6)\n",
    "    * [Question 7](#question-7)\n",
    "    * [Question 8](#question-8)\n",
    "    * [Question 9](#question-9)"
   ]
  },
  {
   "cell_type": "markdown",
   "metadata": {},
   "source": [
    "---"
   ]
  },
  {
   "cell_type": "code",
   "execution_count": 72,
   "metadata": {},
   "outputs": [],
   "source": [
    "import pandas as pd\n",
    "import numpy as np\n",
    "import matplotlib.pyplot as plt\n",
    "from sklearn.model_selection import train_test_split\n",
    "from sklearn.preprocessing import StandardScaler, OneHotEncoder\n",
    "from sklearn.compose import ColumnTransformer\n",
    "from sklearn.pipeline import Pipeline\n",
    "import ISLP as islp"
   ]
  },
  {
   "cell_type": "markdown",
   "metadata": {},
   "source": [
    "<a class=\"anchor\" id=\"question-1\"></a>\n",
    "### 1). \n",
    "Your goal is to predict abalone age, which is calculated as the number of rings plus 1.5. Notice there currently is no age variable in the data set. Add age to the data set.\n",
    "\n",
    "Assess and describe the distribution of age."
   ]
  },
  {
   "cell_type": "code",
   "execution_count": 64,
   "metadata": {},
   "outputs": [],
   "source": [
    "#Load our data\n",
    "abalone = pd.read_csv(\"abalone.csv\")\n",
    "\n",
    " # Create our ring column\n",
    "abalone[\"age\"] = abalone[\"rings\"] + 1.5"
   ]
  },
  {
   "cell_type": "markdown",
   "metadata": {},
   "source": [
    "<a class=\"anchor\" id=\"question-2\"></a>\n",
    "### 2).\n",
    "Split the abalone data into a training set and a testing set. Use stratified sampling. You should decide on appropriate percentages for splitting the data.\n",
    "\n",
    "Remember that you’ll need to set a seed at the beginning of the document to reproduce your results"
   ]
  },
  {
   "cell_type": "code",
   "execution_count": 65,
   "metadata": {},
   "outputs": [],
   "source": [
    "'''\n",
    "Split up our predictors and response variables and create a new column that\n",
    "has age ranges, or bins, to stratify our data.\n",
    "'''\n",
    "y = abalone['age']\n",
    "abalone['ageBin'] = pd.cut(abalone['age'], bins=10)\n",
    "abaloneNoAge = abalone.drop(columns=['age'])\n",
    "\n",
    "# Generate our testing and training data\n",
    "XTrainData, XTestData, yTrainData, yTestData = train_test_split(abaloneNoAge, y, test_size=0.2, stratify=abalone['ageBin'], random_state=100)"
   ]
  },
  {
   "cell_type": "markdown",
   "metadata": {},
   "source": [
    "<a class=\"anchor\" id=\"question-3\"></a>\n",
    "### 3).\n",
    "Using the training data, create a recipe predicting the outcome variable, age, with all other predictor variables. Note that you should not include rings to predict age. Explain why you shouldn’t use rings to predict age.\n",
    "\n",
    "Steps for your recipe:\n",
    "\n",
    "1. dummy code any categorical predictors\n",
    "\n",
    "2. create interactions between\n",
    "\n",
    "    * type and shucked_weight,\n",
    "    * longest_shell and diameter,\n",
    "    * shucked_weight and shell_weight\n",
    "3. center all predictors, and\n",
    "\n",
    "4. scale all predictors.\n",
    "\n",
    "You’ll need to investigate the tidymodels documentation to find the appropriate step functions to use."
   ]
  },
  {
   "cell_type": "code",
   "execution_count": 66,
   "metadata": {},
   "outputs": [],
   "source": [
    "XTrainData = XTrainData.drop(columns=['rings', 'ageBin'])\n",
    "XTestData = XTestData.drop(columns=['rings', 'ageBin'])\n",
    "\n",
    "categoricalPredictors = ['type']\n",
    "numericalPredictors = ['longest_shell,', 'diameter', 'height', 'whole_weight', \n",
    "                       'shucked_weight', 'viscera_weight', 'shell_weight']\n",
    "\n",
    "transformer = ColumnTransformer(\n",
    "    transformers = [('numerical', StandardScaler(), numericalPredictors),\n",
    "                    ('categorical', OneHotEncoder(), categoricalPredictors)]\n",
    ")\n",
    "\n"
   ]
  },
  {
   "cell_type": "markdown",
   "metadata": {},
   "source": [
    "<a class=\"anchor\" id=\"question-4\"></a>\n",
    "### 4).\n",
    "Create and store a linear regression object using the \"lm\" engine."
   ]
  },
  {
   "cell_type": "markdown",
   "metadata": {},
   "source": []
  },
  {
   "cell_type": "markdown",
   "metadata": {},
   "source": [
    "<a class=\"anchor\" id=\"question-5\"></a>\n",
    "### 5).\n",
    "Create and store a KNN object using the \"kknn\" engine. Specify k = 7."
   ]
  },
  {
   "cell_type": "markdown",
   "metadata": {},
   "source": []
  },
  {
   "cell_type": "markdown",
   "metadata": {},
   "source": [
    "<a class=\"anchor\" id=\"question-6\"></a>\n",
    "### 6).\n",
    "Now, for each of these models (linear regression and KNN):\n",
    "\n",
    "1. set up an empty workflow,\n",
    "2. add the model, and\n",
    "3. add the recipe that you created in Question 3.\n",
    "Note that you should be setting up two separate workflows.\n",
    "\n",
    "Fit both models to the training set."
   ]
  },
  {
   "cell_type": "markdown",
   "metadata": {},
   "source": []
  },
  {
   "cell_type": "markdown",
   "metadata": {},
   "source": [
    "<a class=\"anchor\" id=\"question-7\"></a>\n",
    "### 7).\n",
    "Use your linear regression fit() object to predict the age of a hypothetical female abalone with longest_shell = 0.50, diameter = 0.10, height = 0.30, whole_weight = 4, shucked_weight = 1, viscera_weight = 2, and shell_weight = 1."
   ]
  },
  {
   "cell_type": "markdown",
   "metadata": {},
   "source": []
  },
  {
   "cell_type": "markdown",
   "metadata": {},
   "source": [
    "<a class=\"anchor\" id=\"question-8\"></a>\n",
    "### 8).\n",
    "Now you want to assess your models’ performance. To do this, use the yardstick package:\n",
    "\n",
    "1. Create a metric set that includes R2, RMSE (root mean squared error), and MAE (mean absolute error).\n",
    "2. Use augment() to create a tibble of your model’s predicted values from the testing data along with the actual observed ages (these are needed to assess your model’s performance).\n",
    "3. Finally, apply your metric set to the tibble, report the results, and interpret the R^2 value.\n",
    "Repeat these steps once for the linear regression model and for the KNN model."
   ]
  },
  {
   "cell_type": "markdown",
   "metadata": {},
   "source": []
  },
  {
   "cell_type": "markdown",
   "metadata": {},
   "source": [
    "<a class=\"anchor\" id=\"question-9\"></a>\n",
    "### 9).\n",
    "Which model performed better on the testing data? Explain why you think this might be. Are you surprised by any of your results? Why or why not?"
   ]
  },
  {
   "cell_type": "markdown",
   "metadata": {},
   "source": []
  }
 ],
 "metadata": {
  "kernelspec": {
   "display_name": "Python 3",
   "language": "python",
   "name": "python3"
  },
  "language_info": {
   "codemirror_mode": {
    "name": "ipython",
    "version": 3
   },
   "file_extension": ".py",
   "mimetype": "text/x-python",
   "name": "python",
   "nbconvert_exporter": "python",
   "pygments_lexer": "ipython3",
   "version": "3.12.5"
  }
 },
 "nbformat": 4,
 "nbformat_minor": 2
}
