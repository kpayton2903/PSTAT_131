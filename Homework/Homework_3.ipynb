{
 "cells": [
  {
   "cell_type": "markdown",
   "metadata": {},
   "source": [
    "# Homework 3"
   ]
  },
  {
   "cell_type": "markdown",
   "metadata": {},
   "source": [
    "---"
   ]
  },
  {
   "cell_type": "code",
   "execution_count": 3,
   "metadata": {},
   "outputs": [],
   "source": [
    "import pandas as pd\n",
    "import numpy as np\n",
    "import matplotlib.pyplot as plt\n",
    "from sklearn.model_selection import train_test_split\n",
    "from sklearn.preprocessing import StandardScaler, OneHotEncoder\n",
    "from sklearn.compose import ColumnTransformer\n",
    "from sklearn.pipeline import Pipeline\n",
    "from sklearn.preprocessing import FunctionTransformer\n",
    "from sklearn.linear_model import LinearRegression\n",
    "from sklearn.neighbors import KNeighborsRegressor\n",
    "from sklearn.metrics import r2_score, root_mean_squared_error, mean_absolute_error"
   ]
  },
  {
   "cell_type": "markdown",
   "metadata": {},
   "source": [
    "## 1).\n",
    "Split the data, stratifying on the outcome variable, survived. You should choose the proportions to split the data into. Verify that the training and testing data sets have the appropriate number of observations. Take a look at the training data and note any potential issues, such as missing data.\n",
    "\n",
    "Why is it a good idea to use stratified sampling for this data?"
   ]
  },
  {
   "cell_type": "markdown",
   "metadata": {},
   "source": [
    "It is good to use stratified sampling for the survived column of this data because the amount of the passengers who did not survive is much larger than those who did survive. Thus, by stratifying the data we ensure both the testing and training data maintains essentially the same proportion of survivors to non-survivors, preventing possible bias when training the model. "
   ]
  },
  {
   "cell_type": "code",
   "execution_count": 22,
   "metadata": {},
   "outputs": [
    {
     "name": "stdout",
     "output_type": "stream",
     "text": [
      "Length of total dataset: 891\n",
      "Length of training dataset: 712\n",
      "Length of testing dataset: 179\n",
      "\n",
      "Distribution of training dataset: survived\n",
      "No     0.616573\n",
      "Yes    0.383427\n",
      "Name: proportion, dtype: float64\n",
      "\n",
      "Distribution of testing dataset: survived\n",
      "No     0.614525\n",
      "Yes    0.385475\n",
      "Name: proportion, dtype: float64\n"
     ]
    }
   ],
   "source": [
    "# Set a seed so we can reproduce our findings\n",
    "np.random.seed(100)\n",
    "\n",
    "# Import the data and change the survived and pclass columns to category\n",
    "titanic = pd.read_csv('titanic.csv')\n",
    "titanic['survived'] = titanic['survived'].astype('category')\n",
    "titanic['survived'] = titanic['survived'].cat.reorder_categories(['Yes', 'No'])\n",
    "titanic['pclass'] = titanic['pclass'].astype('category')\n",
    "\n",
    "# Now split the data into training and testing\n",
    "trainData, testData = train_test_split(titanic, test_size=0.2, stratify=titanic['survived'])\n",
    "\n",
    "# Verify size of the training and testing data\n",
    "print(f'Length of total dataset: {len(titanic)}')\n",
    "print(f'Length of training dataset: {len(trainData)}')\n",
    "print(f'Length of testing dataset: {len(testData)}')\n",
    "\n",
    "# Check distribution of the survived column to verify stratification worked\n",
    "print(f'\\nDistribution of training dataset: {trainData[\"survived\"].value_counts(normalize=True)}')\n",
    "print(f'\\nDistribution of testing dataset: {testData[\"survived\"].value_counts(normalize=True)}')"
   ]
  }
 ],
 "metadata": {
  "kernelspec": {
   "display_name": "Python 3",
   "language": "python",
   "name": "python3"
  },
  "language_info": {
   "codemirror_mode": {
    "name": "ipython",
    "version": 3
   },
   "file_extension": ".py",
   "mimetype": "text/x-python",
   "name": "python",
   "nbconvert_exporter": "python",
   "pygments_lexer": "ipython3",
   "version": "3.11.9"
  }
 },
 "nbformat": 4,
 "nbformat_minor": 2
}
